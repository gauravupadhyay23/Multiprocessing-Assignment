{
 "cells": [
  {
   "cell_type": "markdown",
   "id": "1b59ac45",
   "metadata": {},
   "source": [
    "Q1. What is multiprocessing in python? Why is it useful?\n"
   ]
  },
  {
   "cell_type": "markdown",
   "id": "811338a1",
   "metadata": {},
   "source": [
    "A1. Multiprocessing in Python is a technique for executing multiple tasks concurrently by \n",
    "creating and managing multiple processes. Each process has its own memory space and runs independently, \n",
    "allowing for true parallelism and taking advantage of multiple CPU cores to improve the overall \n",
    "performance of computationally intensive tasks."
   ]
  },
  {
   "cell_type": "markdown",
   "id": "873ebfef",
   "metadata": {},
   "source": [
    "Q2. What are the differences between multiprocessing and multithreading?\n"
   ]
  },
  {
   "cell_type": "markdown",
   "id": "71de859d",
   "metadata": {},
   "source": [
    "A2.  Multiprocessing:\n",
    "\n",
    "Creates separate processes with independent memory spaces.\n",
    "Utilizes multiple CPU cores for true parallelism.\n",
    "Suitable for CPU-bound tasks that involve heavy computations.\n",
    "\n",
    "\n",
    "Multithreading:\n",
    "\n",
    "Creates multiple threads within a single process, sharing the same memory space.\n",
    "Efficient for I/O-bound tasks that involve waiting for external resources."
   ]
  },
  {
   "cell_type": "markdown",
   "id": "caf9f798",
   "metadata": {},
   "source": [
    "Q3. Write a python code to create a process using the multiprocessing module.\n"
   ]
  },
  {
   "cell_type": "code",
   "execution_count": null,
   "id": "68b0afa5",
   "metadata": {},
   "outputs": [],
   "source": [
    "import multiprocessing\n",
    "\n",
    "def worker_function(num):\n",
    "    print(f\"Process {num} is working...\")\n",
    "\n",
    "if __name__ == \"__main__\":\n",
    "    process = multiprocessing.Process(target=worker_function, args=(1,))\n",
    "    process.start()"
   ]
  },
  {
   "cell_type": "markdown",
   "id": "b5497a78",
   "metadata": {},
   "source": [
    "Q4. What is a multiprocessing pool in python? Why is it used?\n"
   ]
  },
  {
   "cell_type": "markdown",
   "id": "78ad344d",
   "metadata": {},
   "source": [
    "A4. A multiprocessing pool in Python is a collection of worker processes managed by a pool object. \n",
    "It provides an efficient way to distribute tasks among multiple processes and collect their results.\n",
    "It's used to parallelize the execution of a function across multiple input values, improving the performance of data-intensive tasks."
   ]
  },
  {
   "cell_type": "markdown",
   "id": "9b9c30e8",
   "metadata": {},
   "source": [
    "Q5. How can we create a pool of worker processes in python using the multiprocessing module?\n"
   ]
  },
  {
   "cell_type": "code",
   "execution_count": null,
   "id": "e598bb8e",
   "metadata": {},
   "outputs": [],
   "source": [
    "from multiprocessing import Pool\n",
    "\n",
    "def square(x):\n",
    "    return x * x\n",
    "\n",
    "if __name__ == \"__main__\":\n",
    "    with Pool(4) as pool:\n",
    "        results = pool.map(square, [1, 2, 3, 4])\n",
    "        print(results)"
   ]
  },
  {
   "cell_type": "markdown",
   "id": "8402128a",
   "metadata": {},
   "source": [
    "Q6. Write a python program to create 4 processes, each process should print a different number using the\n",
    "multiprocessing module in python."
   ]
  },
  {
   "cell_type": "code",
   "execution_count": null,
   "id": "321f1917",
   "metadata": {},
   "outputs": [],
   "source": [
    "import multiprocessing\n",
    "\n",
    "def worker(num):\n",
    "    print(f\"Process {num}: Number {num}\")\n",
    "\n",
    "if __name__ == \"__main__\":\n",
    "    processes = []\n",
    "    for i in range(4):\n",
    "        process = multiprocessing.Process(target=worker, args=(i,))\n",
    "        processes.append(process)\n",
    "        process.start()\n",
    "\n",
    "    for process in processes:\n",
    "        process.join()"
   ]
  }
 ],
 "metadata": {
  "kernelspec": {
   "display_name": "Python 3 (ipykernel)",
   "language": "python",
   "name": "python3"
  },
  "language_info": {
   "codemirror_mode": {
    "name": "ipython",
    "version": 3
   },
   "file_extension": ".py",
   "mimetype": "text/x-python",
   "name": "python",
   "nbconvert_exporter": "python",
   "pygments_lexer": "ipython3",
   "version": "3.11.5"
  }
 },
 "nbformat": 4,
 "nbformat_minor": 5
}
